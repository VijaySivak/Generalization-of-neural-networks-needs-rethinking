{
  "nbformat": 4,
  "nbformat_minor": 0,
  "metadata": {
    "colab": {
      "provenance": [],
      "gpuType": "T4",
      "include_colab_link": true
    },
    "kernelspec": {
      "name": "python3",
      "display_name": "Python 3"
    },
    "language_info": {
      "name": "python"
    },
    "accelerator": "GPU"
  },
  "cells": [
    {
      "cell_type": "markdown",
      "metadata": {
        "id": "view-in-github",
        "colab_type": "text"
      },
      "source": [
        "<a href=\"https://colab.research.google.com/github/VijaySivak/Generalization-of-neural-networks-needs-rethinking/blob/main/Shuffled_Pixel.ipynb\" target=\"_parent\"><img src=\"https://colab.research.google.com/assets/colab-badge.svg\" alt=\"Open In Colab\"/></a>"
      ]
    },
    {
      "cell_type": "code",
      "execution_count": null,
      "metadata": {
        "colab": {
          "base_uri": "https://localhost:8080/"
        },
        "id": "uvKqq5dD4_cU",
        "outputId": "dac76261-b4de-43bc-ff96-92d84879cd88"
      },
      "outputs": [
        {
          "output_type": "stream",
          "name": "stdout",
          "text": [
            "Using device: cuda\n"
          ]
        }
      ],
      "source": [
        "# 📦 Imports and Setup\n",
        "import torch\n",
        "import torchvision\n",
        "import torchvision.transforms as transforms\n",
        "import torch.nn as nn\n",
        "import torch.optim as optim\n",
        "import matplotlib.pyplot as plt\n",
        "from torch.utils.data import Dataset, DataLoader\n",
        "from torchvision.datasets import CIFAR10\n",
        "\n",
        "device = torch.device('cuda' if torch.cuda.is_available() else 'cpu')\n",
        "print(\"Using device:\", device)\n"
      ]
    },
    {
      "cell_type": "code",
      "source": [
        "import torch.nn as nn\n",
        "import torchvision.models as models\n",
        "\n",
        "class CIFAR10_AlexNet(nn.Module):\n",
        "    def __init__(self):\n",
        "        super(CIFAR10_AlexNet, self).__init__()\n",
        "        self.features = nn.Sequential(\n",
        "            nn.Conv2d(3, 64, kernel_size=11, stride=4, padding=2),  # CIFAR-10: 32×32 input\n",
        "            nn.ReLU(inplace=True),\n",
        "            nn.MaxPool2d(kernel_size=3, stride=2),\n",
        "            nn.Conv2d(64, 192, kernel_size=5, padding=2),\n",
        "            nn.ReLU(inplace=True),\n",
        "            nn.MaxPool2d(kernel_size=3, stride=2),\n",
        "            nn.Conv2d(192, 384, kernel_size=3, padding=1),\n",
        "            nn.ReLU(inplace=True),\n",
        "            nn.Conv2d(384, 256, kernel_size=3, padding=1),\n",
        "            nn.ReLU(inplace=True),\n",
        "            nn.Conv2d(256, 256, kernel_size=3, padding=1),\n",
        "            nn.ReLU(inplace=True),\n",
        "            nn.AdaptiveAvgPool2d((1, 1))  # ✅ Replaces final MaxPool2d\n",
        "        )\n",
        "        self.classifier = nn.Sequential(\n",
        "            nn.Dropout(),\n",
        "            nn.Linear(256 * 1 * 1, 4096),\n",
        "            nn.ReLU(inplace=True),\n",
        "            nn.Dropout(),\n",
        "            nn.Linear(4096, 4096),\n",
        "            nn.ReLU(inplace=True),\n",
        "            nn.Linear(4096, 10)\n",
        "        )\n",
        "\n",
        "    def forward(self, x):\n",
        "        x = self.features(x)\n",
        "        x = torch.flatten(x, 1)\n",
        "        x = self.classifier(x)\n",
        "        return x\n",
        "\n"
      ],
      "metadata": {
        "id": "uOEeGAGu5NBL"
      },
      "execution_count": null,
      "outputs": []
    },
    {
      "cell_type": "code",
      "source": [
        "# ⚙️ Training Function\n",
        "def train(model, trainloader, testloader, epochs=20):\n",
        "    criterion = nn.CrossEntropyLoss()\n",
        "    optimizer = optim.Adam(model.parameters(), lr=0.001)\n",
        "\n",
        "    train_acc_list = []\n",
        "    test_acc_list = []\n",
        "\n",
        "    for epoch in range(epochs):\n",
        "        model.train()\n",
        "        correct, total = 0, 0\n",
        "        for inputs, labels in trainloader:\n",
        "            inputs, labels = inputs.to(device), labels.to(device)\n",
        "            optimizer.zero_grad()\n",
        "            outputs = model(inputs)\n",
        "            loss = criterion(outputs, labels)\n",
        "            loss.backward()\n",
        "            optimizer.step()\n",
        "\n",
        "            _, predicted = outputs.max(1)\n",
        "            total += labels.size(0)\n",
        "            correct += predicted.eq(labels).sum().item()\n",
        "        train_acc = 100. * correct / total\n",
        "        train_acc_list.append(train_acc)\n",
        "\n",
        "        # Evaluate\n",
        "        model.eval()\n",
        "        correct, total = 0, 0\n",
        "        with torch.no_grad():\n",
        "            for inputs, labels in testloader:\n",
        "                inputs, labels = inputs.to(device), labels.to(device)\n",
        "                outputs = model(inputs)\n",
        "                _, predicted = outputs.max(1)\n",
        "                total += labels.size(0)\n",
        "                correct += predicted.eq(labels).sum().item()\n",
        "        test_acc = 100. * correct / total\n",
        "        test_acc_list.append(test_acc)\n",
        "\n",
        "        print(f\"Epoch {epoch+1}: Train Acc = {train_acc:.2f}%, Test Acc = {test_acc:.2f}%\")\n",
        "\n",
        "    return train_acc_list, test_acc_list\n"
      ],
      "metadata": {
        "id": "1t0uQbDZ5RDX"
      },
      "execution_count": null,
      "outputs": []
    },
    {
      "cell_type": "code",
      "source": [
        "# 🌀 Pixel-Shuffled CIFAR-10 Dataset\n",
        "perm = torch.randperm(32 * 32 * 3)\n",
        "\n",
        "class PixelShuffledCIFAR(Dataset):\n",
        "    def __init__(self, base_dataset):\n",
        "        self.data = base_dataset.data\n",
        "        self.targets = base_dataset.targets\n",
        "\n",
        "    def __len__(self):\n",
        "        return len(self.data)\n",
        "\n",
        "    def __getitem__(self, idx):\n",
        "        img = torch.tensor(self.data[idx]).permute(2, 0, 1).float() / 255.0\n",
        "        img = img.reshape(-1)[perm].reshape(3, 32, 32)\n",
        "        img = (img - 0.5) / 0.5  # normalize\n",
        "        label = self.targets[idx]\n",
        "        return img, label\n"
      ],
      "metadata": {
        "id": "YkzVg5PS5WBy"
      },
      "execution_count": null,
      "outputs": []
    },
    {
      "cell_type": "code",
      "source": [
        "# 📦 Load and Wrap CIFAR-10 Dataset\n",
        "trainset_raw = CIFAR10(root='./data', train=True, download=True)\n",
        "testset_raw = CIFAR10(root='./data', train=False, download=True)\n",
        "\n",
        "trainset_shuffled = PixelShuffledCIFAR(trainset_raw)\n",
        "testset_shuffled = PixelShuffledCIFAR(testset_raw)\n",
        "\n",
        "trainloader_shuffled = DataLoader(trainset_shuffled, batch_size=128, shuffle=True, num_workers=2)\n",
        "testloader_shuffled = DataLoader(testset_shuffled, batch_size=128, shuffle=False, num_workers=2)\n"
      ],
      "metadata": {
        "id": "YZNEMthB5cm0",
        "colab": {
          "base_uri": "https://localhost:8080/"
        },
        "outputId": "673b8afc-2c81-481e-9768-c232b1d70e57"
      },
      "execution_count": null,
      "outputs": [
        {
          "output_type": "stream",
          "name": "stderr",
          "text": [
            "100%|██████████| 170M/170M [00:12<00:00, 13.2MB/s]\n"
          ]
        }
      ]
    },
    {
      "cell_type": "code",
      "source": [
        "# 🏃‍♂️ Train the Model\n",
        "model_shuffled = CIFAR10_AlexNet().to(device)\n",
        "train_accs, test_accs = train(model_shuffled, trainloader_shuffled, testloader_shuffled, epochs=100)"
      ],
      "metadata": {
        "id": "iMz-xHG55jhI",
        "colab": {
          "base_uri": "https://localhost:8080/"
        },
        "outputId": "d9a63183-8177-45a9-a5e0-a50a9435fddc"
      },
      "execution_count": null,
      "outputs": [
        {
          "output_type": "stream",
          "name": "stdout",
          "text": [
            "Epoch 1: Train Acc = 20.94%, Test Acc = 27.34%\n",
            "Epoch 2: Train Acc = 30.93%, Test Acc = 33.13%\n",
            "Epoch 3: Train Acc = 35.89%, Test Acc = 37.21%\n",
            "Epoch 4: Train Acc = 39.77%, Test Acc = 40.92%\n",
            "Epoch 5: Train Acc = 43.27%, Test Acc = 38.99%\n",
            "Epoch 6: Train Acc = 45.99%, Test Acc = 43.64%\n",
            "Epoch 7: Train Acc = 48.86%, Test Acc = 46.68%\n",
            "Epoch 8: Train Acc = 50.83%, Test Acc = 45.98%\n",
            "Epoch 9: Train Acc = 52.43%, Test Acc = 46.37%\n",
            "Epoch 10: Train Acc = 54.47%, Test Acc = 47.20%\n",
            "Epoch 11: Train Acc = 55.69%, Test Acc = 47.15%\n",
            "Epoch 12: Train Acc = 56.81%, Test Acc = 47.13%\n",
            "Epoch 13: Train Acc = 57.86%, Test Acc = 47.03%\n",
            "Epoch 14: Train Acc = 58.44%, Test Acc = 48.19%\n",
            "Epoch 15: Train Acc = 59.71%, Test Acc = 47.64%\n",
            "Epoch 16: Train Acc = 60.22%, Test Acc = 47.84%\n",
            "Epoch 17: Train Acc = 61.28%, Test Acc = 48.09%\n",
            "Epoch 18: Train Acc = 61.84%, Test Acc = 47.15%\n",
            "Epoch 19: Train Acc = 62.29%, Test Acc = 47.43%\n",
            "Epoch 20: Train Acc = 62.89%, Test Acc = 47.25%\n",
            "Epoch 21: Train Acc = 63.76%, Test Acc = 47.42%\n",
            "Epoch 22: Train Acc = 64.41%, Test Acc = 47.27%\n",
            "Epoch 23: Train Acc = 64.91%, Test Acc = 47.50%\n",
            "Epoch 24: Train Acc = 65.14%, Test Acc = 47.37%\n",
            "Epoch 25: Train Acc = 65.51%, Test Acc = 47.82%\n",
            "Epoch 26: Train Acc = 66.39%, Test Acc = 46.93%\n",
            "Epoch 27: Train Acc = 66.60%, Test Acc = 47.25%\n",
            "Epoch 28: Train Acc = 67.04%, Test Acc = 47.30%\n",
            "Epoch 29: Train Acc = 67.94%, Test Acc = 46.93%\n",
            "Epoch 30: Train Acc = 68.27%, Test Acc = 47.50%\n",
            "Epoch 31: Train Acc = 68.38%, Test Acc = 47.38%\n",
            "Epoch 32: Train Acc = 69.11%, Test Acc = 47.73%\n",
            "Epoch 33: Train Acc = 69.33%, Test Acc = 46.60%\n",
            "Epoch 34: Train Acc = 69.82%, Test Acc = 46.74%\n",
            "Epoch 35: Train Acc = 69.88%, Test Acc = 47.00%\n",
            "Epoch 36: Train Acc = 70.22%, Test Acc = 48.02%\n",
            "Epoch 37: Train Acc = 70.90%, Test Acc = 47.15%\n",
            "Epoch 38: Train Acc = 71.03%, Test Acc = 47.22%\n",
            "Epoch 39: Train Acc = 71.40%, Test Acc = 47.08%\n",
            "Epoch 40: Train Acc = 72.08%, Test Acc = 47.49%\n",
            "Epoch 41: Train Acc = 71.97%, Test Acc = 46.33%\n",
            "Epoch 42: Train Acc = 72.37%, Test Acc = 46.87%\n",
            "Epoch 43: Train Acc = 72.99%, Test Acc = 47.06%\n",
            "Epoch 44: Train Acc = 73.25%, Test Acc = 46.12%\n",
            "Epoch 45: Train Acc = 73.26%, Test Acc = 47.22%\n",
            "Epoch 46: Train Acc = 73.54%, Test Acc = 47.46%\n",
            "Epoch 47: Train Acc = 73.69%, Test Acc = 46.78%\n",
            "Epoch 48: Train Acc = 74.22%, Test Acc = 46.98%\n",
            "Epoch 49: Train Acc = 74.67%, Test Acc = 46.55%\n",
            "Epoch 50: Train Acc = 74.95%, Test Acc = 46.35%\n",
            "Epoch 51: Train Acc = 75.48%, Test Acc = 46.74%\n",
            "Epoch 52: Train Acc = 75.53%, Test Acc = 46.10%\n",
            "Epoch 53: Train Acc = 75.03%, Test Acc = 46.09%\n",
            "Epoch 54: Train Acc = 75.86%, Test Acc = 46.19%\n",
            "Epoch 55: Train Acc = 75.89%, Test Acc = 45.63%\n",
            "Epoch 56: Train Acc = 76.55%, Test Acc = 46.33%\n",
            "Epoch 57: Train Acc = 76.76%, Test Acc = 45.76%\n",
            "Epoch 58: Train Acc = 76.94%, Test Acc = 46.15%\n",
            "Epoch 59: Train Acc = 76.70%, Test Acc = 45.92%\n",
            "Epoch 60: Train Acc = 77.40%, Test Acc = 46.93%\n",
            "Epoch 61: Train Acc = 77.45%, Test Acc = 45.23%\n",
            "Epoch 62: Train Acc = 77.28%, Test Acc = 46.20%\n",
            "Epoch 63: Train Acc = 77.22%, Test Acc = 46.54%\n",
            "Epoch 64: Train Acc = 77.67%, Test Acc = 45.54%\n",
            "Epoch 65: Train Acc = 78.05%, Test Acc = 46.23%\n",
            "Epoch 66: Train Acc = 78.61%, Test Acc = 46.68%\n",
            "Epoch 67: Train Acc = 78.40%, Test Acc = 45.97%\n",
            "Epoch 68: Train Acc = 79.02%, Test Acc = 46.18%\n",
            "Epoch 69: Train Acc = 79.38%, Test Acc = 46.63%\n",
            "Epoch 70: Train Acc = 78.83%, Test Acc = 46.07%\n",
            "Epoch 71: Train Acc = 79.38%, Test Acc = 47.24%\n",
            "Epoch 72: Train Acc = 79.35%, Test Acc = 46.40%\n",
            "Epoch 73: Train Acc = 79.88%, Test Acc = 46.22%\n",
            "Epoch 74: Train Acc = 79.91%, Test Acc = 46.23%\n",
            "Epoch 75: Train Acc = 79.84%, Test Acc = 45.65%\n",
            "Epoch 76: Train Acc = 80.27%, Test Acc = 45.91%\n",
            "Epoch 77: Train Acc = 80.27%, Test Acc = 46.03%\n",
            "Epoch 78: Train Acc = 81.03%, Test Acc = 45.23%\n",
            "Epoch 79: Train Acc = 80.63%, Test Acc = 46.45%\n",
            "Epoch 80: Train Acc = 81.11%, Test Acc = 45.45%\n",
            "Epoch 81: Train Acc = 80.70%, Test Acc = 45.80%\n",
            "Epoch 82: Train Acc = 81.30%, Test Acc = 45.65%\n",
            "Epoch 83: Train Acc = 81.23%, Test Acc = 45.08%\n",
            "Epoch 84: Train Acc = 81.87%, Test Acc = 45.60%\n",
            "Epoch 85: Train Acc = 81.55%, Test Acc = 45.34%\n",
            "Epoch 86: Train Acc = 81.47%, Test Acc = 45.55%\n",
            "Epoch 87: Train Acc = 81.84%, Test Acc = 45.79%\n",
            "Epoch 88: Train Acc = 82.45%, Test Acc = 45.51%\n",
            "Epoch 89: Train Acc = 82.00%, Test Acc = 45.56%\n",
            "Epoch 90: Train Acc = 82.23%, Test Acc = 45.25%\n",
            "Epoch 91: Train Acc = 81.94%, Test Acc = 45.48%\n",
            "Epoch 92: Train Acc = 82.45%, Test Acc = 45.89%\n",
            "Epoch 93: Train Acc = 82.03%, Test Acc = 45.59%\n",
            "Epoch 94: Train Acc = 82.71%, Test Acc = 44.91%\n",
            "Epoch 95: Train Acc = 82.41%, Test Acc = 46.06%\n",
            "Epoch 96: Train Acc = 83.13%, Test Acc = 45.97%\n",
            "Epoch 97: Train Acc = 82.99%, Test Acc = 45.95%\n",
            "Epoch 98: Train Acc = 83.06%, Test Acc = 46.19%\n",
            "Epoch 99: Train Acc = 83.14%, Test Acc = 45.80%\n",
            "Epoch 100: Train Acc = 83.26%, Test Acc = 44.90%\n"
          ]
        }
      ]
    },
    {
      "cell_type": "code",
      "source": [
        "# 📈 Plot Accuracy\n",
        "plt.figure(figsize=(8,5))\n",
        "plt.plot(train_accs, label='Train Accuracy')\n",
        "plt.plot(test_accs, label='Test Accuracy')\n",
        "plt.title('Training on Pixel-Shuffled CIFAR-10')\n",
        "plt.xlabel('Epochs')\n",
        "plt.ylabel('Accuracy (%)')\n",
        "plt.legend()\n",
        "plt.grid(True)\n",
        "plt.savefig(\"figure_shuffled_pixels.png\")\n",
        "plt.show()\n"
      ],
      "metadata": {
        "id": "Bvtx5UWi55s9",
        "colab": {
          "base_uri": "https://localhost:8080/",
          "height": 487
        },
        "outputId": "ba7d7238-d4fd-4383-929d-a91019c64b06"
      },
      "execution_count": null,
      "outputs": [
        {
          "output_type": "display_data",
          "data": {
            "text/plain": [
              "<Figure size 800x500 with 1 Axes>"
            ],
            "image/png": "[encoded data removed]"
          },
          "metadata": {}
        }
      ]
    },
    {
      "cell_type": "code",
      "source": [],
      "metadata": {
        "id": "cCD6d6RupZ5h"
      },
      "execution_count": null,
      "outputs": []
    }
  ]
}